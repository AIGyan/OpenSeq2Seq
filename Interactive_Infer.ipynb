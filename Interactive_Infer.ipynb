{
 "cells": [
  {
   "cell_type": "code",
   "execution_count": null,
   "metadata": {},
   "outputs": [],
   "source": [
    "import tensorflow as tf\n",
    "import run\n",
    "import IPython\n",
    "from open_seq2seq.utils.utils import get_results_for_epoch\n",
    "from open_seq2seq.models.text2speech import save_audio\n",
    "args = [\"--config_file=Infer_dev0.5/config_dev0.5.py\",\n",
    "        \"--mode=interactive_infer\",\n",
    "        \"--logdir=Infer_dev0.5/\",\n",
    "        \"--infer_output_file=unused\",\n",
    "        \"--batch_size_per_gpu=1\",\n",
    "]\n",
    "output_file = \"unused\"\n",
    "\n",
    "model, checkpoint, graph = run.main(args)\n",
    "sess_config = tf.ConfigProto(allow_soft_placement=True)\n",
    "sess_config.gpu_options.allow_growth = True\n",
    "sess = tf.InteractiveSession(graph=graph, config=sess_config)\n",
    "saver = tf.train.Saver()\n",
    "saver.restore(sess, checkpoint)"
   ]
  },
  {
   "cell_type": "code",
   "execution_count": null,
   "metadata": {},
   "outputs": [],
   "source": [
    "input = [\"Anyone can edit this and generate speech!\"]\n",
    "results = get_results_for_epoch(model, sess, compute_loss=False, mode=\"interactive_infer\", verbose=True, input=input)"
   ]
  },
  {
   "cell_type": "code",
   "execution_count": null,
   "metadata": {},
   "outputs": [],
   "source": [
    "# Model specific post_processing\n",
    "prediction = results[0][1][1][0]\n",
    "audio_length = results[0][1][4][0]\n",
    "prediction = prediction[:audio_length-1,:]\n",
    "prediction = model.get_data_layer().get_magnitude_spec(prediction)\n",
    "wav = save_audio(prediction, \"unused\", \"unused\", save_format=\"np.array\")\n",
    "IPython.display.Audio(wav, rate=22050)"
   ]
  },
  {
   "cell_type": "code",
   "execution_count": null,
   "metadata": {},
   "outputs": [],
   "source": []
  }
 ],
 "metadata": {
  "kernelspec": {
   "display_name": "Python 2",
   "language": "python",
   "name": "python2"
  },
  "language_info": {
   "codemirror_mode": {
    "name": "ipython",
    "version": 2
   },
   "file_extension": ".py",
   "mimetype": "text/x-python",
   "name": "python",
   "nbconvert_exporter": "python",
   "pygments_lexer": "ipython2",
   "version": "2.7.12"
  }
 },
 "nbformat": 4,
 "nbformat_minor": 2
}
